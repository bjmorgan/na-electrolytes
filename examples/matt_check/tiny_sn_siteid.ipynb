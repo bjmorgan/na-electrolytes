{
 "cells": [
  {
   "cell_type": "code",
   "execution_count": 1,
   "metadata": {},
   "outputs": [],
   "source": [
    "from pymatgen.io.vasp import Poscar, Xdatcar\n",
    "from pymatgen.symmetry.groups import SpaceGroup\n",
    "from pymatgen import Structure, Lattice\n",
    "import numpy as np\n",
    "import operator\n",
    "from site_analysis import Polyhedron, Atom, Analysis, get_vertex_indices, AtomsTrajectory, SitesTrajectory\n",
    "from polyhedral_analysis.polyhedra_recipe import matching_site_indices\n",
    "from collections import Counter"
   ]
  },
  {
   "cell_type": "code",
   "execution_count": 2,
   "metadata": {},
   "outputs": [],
   "source": [
    "all_na_structure = Poscar.from_file('../na_sn_all_na_ext.POSCAR.vasp').structure\n",
    "vertex_species = 'S'\n",
    "centre_species = 'Na'\n",
    "\n",
    "sg = SpaceGroup('I41/acd:2')\n",
    "lattice = all_na_structure.lattice\n",
    "na1 = Structure.from_spacegroup(sg='I41/acd:2', lattice=lattice, species=['Na'], coords=[[0.25, 0.0, 0.125]])\n",
    "na2 = Structure.from_spacegroup(sg='I41/acd:2', lattice=lattice, species=['Na'], coords=[[0.00, 0.0, 0.125]])\n",
    "na3 = Structure.from_spacegroup(sg='I41/acd:2', lattice=lattice, species=['Na'], coords=[[0.0, 0.25, 0.0]])\n",
    "na4 = Structure.from_spacegroup(sg='I41/acd:2', lattice=lattice, species=['Na'], coords=[[0.0, 0.0, 0.0]])\n",
    "na5 = Structure.from_spacegroup(sg='I41/acd:2', lattice=lattice, species=['Na'], coords=[[0.75, 0.25, 0.0]])\n",
    "na6 = Structure.from_spacegroup(sg='I41/acd:2', lattice=lattice, species=['Na'], coords=[[0.5, 0.75, 0.625]])\n",
    "i2  = Structure.from_spacegroup(sg='I41/acd:2', lattice=lattice, species=['Na'], coords=[[0.666, 0.1376, 0.05]])\n",
    "na_structures = {'Na1': na1,\n",
    "                 'Na2': na2,\n",
    "                 'Na3': na3,\n",
    "                 'Na4': na4,\n",
    "                 'Na5': na5,\n",
    "                 'Na6': na6, \n",
    "                 'i2': i2}\n",
    "\n",
    "s = Structure.from_spacegroup(sg='I41/acd:2', lattice=lattice, \n",
    "                          species=['Sn','S','S','S', 'P','Na','Na','Na','Na','Na','K','Li','Mg'], \n",
    "                          coords=[[0.25, 0.0, 0.25],\n",
    "                                  [0.326, 0.8997, 0.1987],\n",
    "                                  [0.1258, 0.8972, 0.2999],\n",
    "                                  [0.4097, 0.8339, 0.332],\n",
    "                                  [0, 0.75, 0.125],\n",
    "                                  [0.25, 0.0, 0.125],\n",
    "                                  [0.0, 0.0, 0.125],\n",
    "                                  [0.0, 0.25, 0.0],\n",
    "                                  [0.0, 0.0, 0.0],\n",
    "                                  [0.75, 0.25, 0.0],\n",
    "                                  [0.5, 0.75, 0.625],\n",
    "                                  [0.65, 0.375, 0.05],\n",
    "                                  [0.25000,  0.75000,  0.00000]]) \n",
    "\n",
    "s.to(filename='all_atoms_ge.cif')\n",
    "\n",
    "labels = {}\n",
    "for l, structure in na_structures.items():\n",
    "    indices = matching_site_indices(all_na_structure, structure)\n",
    "    for i in indices:\n",
    "        labels[i] = l\n",
    "sorted_labels = [ labels[i] for i in sorted(labels) ]"
   ]
  },
  {
   "cell_type": "code",
   "execution_count": 3,
   "metadata": {},
   "outputs": [
    {
     "name": "stdout",
     "output_type": "stream",
     "text": [
      "Na3\n",
      "0.7625\n",
      "Na4\n",
      "0.959375\n",
      "Na2\n",
      "0.93125\n",
      "Na5\n",
      "0.95\n",
      "Na1\n",
      "0.959375\n",
      "i2\n",
      "0.003125\n"
     ]
    }
   ],
   "source": [
    "# Ge\n",
    "# find atom indices (within species) for all polyhedra vertex atoms\n",
    "vertex_indices = get_vertex_indices(all_na_structure, centre_species=centre_species, \n",
    "                                    vertex_species=vertex_species, cutoff=4.3)\n",
    "\n",
    "structure = Poscar.from_file('./POSCAR').structure\n",
    "# create Polyhedron objects\n",
    "polyhedra = [Polyhedron(vertex_species=vertex_species, vertex_indices=vi, label=label) \n",
    "             for vi, label in zip(vertex_indices, sorted_labels)]\n",
    "# create Atom objects\n",
    "atoms = [Atom(species_string=centre_species) for site in structure if site.species_string is 'Na']\n",
    "analysis = Analysis(polyhedra, atoms)\n",
    "\n",
    "xdatcar = Xdatcar('./XDATCAR')\n",
    "for timestep, s in enumerate(xdatcar.structures):\n",
    "    analysis.append_timestep(s, t=timestep)\n",
    "\n",
    "a = Counter()\n",
    "b = Counter()\n",
    "for n,i in enumerate(analysis.st):\n",
    "    a += Counter([ l for d,l  in zip(analysis.st[n], analysis.site_labels()) if len(d)>0])\n",
    "    b += Counter([ l for d,l  in zip(analysis.st[n], analysis.site_labels())])\n",
    "\n",
    "for i in a:\n",
    "    print(i)\n",
    "    print(a[i] / b[i])"
   ]
  },
  {
   "cell_type": "code",
   "execution_count": null,
   "metadata": {},
   "outputs": [],
   "source": [
    "t = 0\n",
    "for u, o in a.items():\n",
    "    print(u, o / b[u] * Counter([ l for d,l  in zip(analysis.st[0], analysis.site_labels())])[u])\n",
    "    t += o / b[u] * Counter([ l for d,l  in zip(analysis.st[0], analysis.site_labels())])[u]\n",
    "print(t)"
   ]
  },
  {
   "cell_type": "code",
   "execution_count": null,
   "metadata": {},
   "outputs": [],
   "source": [
    "polyhedra[0].as_dict()"
   ]
  },
  {
   "cell_type": "code",
   "execution_count": null,
   "metadata": {},
   "outputs": [],
   "source": [
    "analysis.reset()\n",
    "xdatcar = Xdatcar('XDATCAR')\n",
    "analysis.trajectory_from_structures( xdatcar.structures, progress='notebook')"
   ]
  },
  {
   "cell_type": "code",
   "execution_count": null,
   "metadata": {},
   "outputs": [],
   "source": [
    "n_timesteps = len(analysis.timesteps)\n",
    "c_sites = Counter(analysis.site_labels())\n",
    "c = Counter()\n",
    "p_occ = {}\n",
    "for site in analysis.sites:\n",
    "    c[site.label] += len([ 1 for ts in site.trajectory if len(ts)>0 ])\n",
    "for k, v in c.items():\n",
    "    p_occ[k] = v / c_sites[k] / n_timesteps\n",
    "p_occ"
   ]
  },
  {
   "cell_type": "code",
   "execution_count": null,
   "metadata": {},
   "outputs": [],
   "source": [
    "structure"
   ]
  },
  {
   "cell_type": "code",
   "execution_count": null,
   "metadata": {},
   "outputs": [],
   "source": [
    "for p in polyhedra:\n",
    "    print(p.label)"
   ]
  },
  {
   "cell_type": "code",
   "execution_count": null,
   "metadata": {},
   "outputs": [],
   "source": [
    "for p in polyhedra:\n",
    "    print(p.as_dict())"
   ]
  },
  {
   "cell_type": "code",
   "execution_count": null,
   "metadata": {},
   "outputs": [],
   "source": [
    "print(len(polyhedra))"
   ]
  },
  {
   "cell_type": "code",
   "execution_count": null,
   "metadata": {},
   "outputs": [],
   "source": [
    "len(vertex_indices)"
   ]
  },
  {
   "cell_type": "code",
   "execution_count": null,
   "metadata": {},
   "outputs": [],
   "source": []
  }
 ],
 "metadata": {
  "kernelspec": {
   "display_name": "Python 3",
   "language": "python",
   "name": "python3"
  },
  "language_info": {
   "codemirror_mode": {
    "name": "ipython",
    "version": 3
   },
   "file_extension": ".py",
   "mimetype": "text/x-python",
   "name": "python",
   "nbconvert_exporter": "python",
   "pygments_lexer": "ipython3",
   "version": "3.7.0"
  }
 },
 "nbformat": 4,
 "nbformat_minor": 2
}
