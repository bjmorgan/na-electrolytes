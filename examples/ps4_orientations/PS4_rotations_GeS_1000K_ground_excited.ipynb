{
 "cells": [
  {
   "cell_type": "code",
   "execution_count": 1,
   "metadata": {},
   "outputs": [],
   "source": [
    "from pymatgen.io.vasp import Xdatcar\n",
    "import numpy as np\n",
    "\n",
    "from polyhedral_analysis.trajectory import Trajectory\n",
    "from polyhedral_analysis.polyhedra_recipe import PolyhedraRecipe, create_matching_site_generator\n",
    "from polyhedral_analysis.rotation_analyser import RotationAnalyser\n",
    "\n",
    "import matplotlib.pyplot as plt\n",
    "from tqdm import tqdm"
   ]
  },
  {
   "cell_type": "code",
   "execution_count": 2,
   "metadata": {},
   "outputs": [
    {
     "name": "stderr",
     "output_type": "stream",
     "text": [
      "100%|██████████| 9924/9924 [04:30<00:00, 36.66 configurations/s] \n"
     ]
    }
   ],
   "source": [
    "ps4_recipe = PolyhedraRecipe(central_atoms='P', vertex_atoms='S', method='nearest neighbours',\n",
    "                            n_neighbours=4)\n",
    "ges4_recipe = PolyhedraRecipe(central_atoms='Ge', vertex_atoms='S', method='nearest neighbours',\n",
    "                             n_neighbours=4)\n",
    "\n",
    "trajectory = Trajectory.from_xdatcars( filenames=['data/1000K/Ge/1/XDATCAR',\n",
    "                                                  'data/1000K/Ge/2/XDATCAR',\n",
    "                                                  'data/1000K/Ge/3/XDATCAR',\n",
    "                                                  'data/1000K/Ge/4/XDATCAR',\n",
    "                                                  'data/1000K/Ge/5/XDATCAR'], \n",
    "                                       recipes=[ps4_recipe, ges4_recipe], \n",
    "                                       progress=True,\n",
    "                                       ncores=4 )"
   ]
  },
  {
   "cell_type": "code",
   "execution_count": 3,
   "metadata": {},
   "outputs": [],
   "source": [
    "reference_points = np.array([[1.0, -1.0, 1.0],\n",
    "                             [-1.0, -1.0, -1.0],\n",
    "                             [1.0, 1.0, -1.0],\n",
    "                             [-1.0, 1.0, 1.0]])\n",
    "reference_points.shape\n",
    "\n",
    "all_points = np.array([reference_points, reference_points*(-1)])\n",
    "all_points.shape\n",
    "\n",
    "inv_all_points = np.array([reference_points*(-1), reference_points])\n",
    "inv_all_points.shape\n",
    "\n",
    "ra = RotationAnalyser(reference_points=all_points)\n",
    "inv_ra = RotationAnalyser(reference_points=inv_all_points)"
   ]
  },
  {
   "cell_type": "code",
   "execution_count": 4,
   "metadata": {},
   "outputs": [
    {
     "name": "stderr",
     "output_type": "stream",
     "text": [
      "100%|██████████| 4/4 [04:26<00:00, 66.76s/it]\n",
      "100%|██████████| 4/4 [04:24<00:00, 66.07s/it]\n"
     ]
    }
   ],
   "source": [
    "import math\n",
    "\n",
    "type_0 = [2,3,4,5]\n",
    "all_orientations = []\n",
    "all_angles = []\n",
    "all_reference = []\n",
    "\n",
    "type_1 = [0,1,6,7]\n",
    "inv_all_orientations = []\n",
    "inv_all_angles = []\n",
    "inv_all_reference = []\n",
    "\n",
    "for i in tqdm(type_0):\n",
    "    angles = []\n",
    "    orientations = []\n",
    "    reference = []\n",
    "    for c in trajectory.configurations:\n",
    "        po = ra.polyhedron_orientation( c.polyhedra[i] )\n",
    "        angles.append(po['rotational_distance'])\n",
    "        orientations.append(po['orientation_index'])\n",
    "        reference.append(po['reference_geometry_index'])\n",
    "    all_orientations.append(orientations)\n",
    "    all_angles.append(angles)\n",
    "    all_reference.append(reference)\n",
    "all_orientations = np.array(all_orientations)\n",
    "all_angles = np.array(all_angles)*180.0/math.pi\n",
    "all_reference = np.array(all_reference)\n",
    "\n",
    "for i in tqdm(type_1):\n",
    "    angles = []\n",
    "    orientations = []\n",
    "    reference = []\n",
    "    for c in trajectory.configurations:\n",
    "        po = inv_ra.polyhedron_orientation( c.polyhedra[i] )\n",
    "        angles.append(po['rotational_distance'])\n",
    "        orientations.append(po['orientation_index'])\n",
    "        reference.append(po['reference_geometry_index'])\n",
    "    inv_all_orientations.append(orientations)\n",
    "    inv_all_angles.append(angles)\n",
    "    inv_all_reference.append(reference)\n",
    "inv_all_orientations = np.array(inv_all_orientations)\n",
    "inv_all_angles = np.array(inv_all_angles)*180.0/math.pi\n",
    "inv_all_reference = np.array(inv_all_reference)"
   ]
  },
  {
   "cell_type": "code",
   "execution_count": 5,
   "metadata": {},
   "outputs": [],
   "source": [
    "from skimage.util import view_as_windows\n",
    "\n",
    "def smooth_data(a, n):\n",
    "    return np.array([ np.argmax(np.bincount(window)) for window in view_as_windows(a,n) ])"
   ]
  },
  {
   "cell_type": "code",
   "execution_count": 6,
   "metadata": {},
   "outputs": [
    {
     "data": {
      "image/png": "[encoded data removed]",
      "text/plain": [
       "<Figure size 1080x288 with 4 Axes>"
      ]
     },
     "metadata": {
      "needs_background": "light"
     },
     "output_type": "display_data"
    }
   ],
   "source": [
    "n = 4\n",
    "smoothed_data = [smooth_data(all_reference[i], 200) for i in range(4)]\n",
    "sosmooth_data = [smooth_data(smoothed_data[i], 100) for i in range(4)]\n",
    "f, ax = plt.subplots(n, 1, sharey=True, figsize=(15,n), gridspec_kw={'hspace': 0})\n",
    "for axis, o in zip(ax, sosmooth_data):\n",
    "#     axis.plot(np.not_equal(o[:-1],o[1:]), 'o')\n",
    "    axis.plot(o)\n",
    "plt.savefig('GeS_1000K_ref0.png', dpi=300)"
   ]
  },
  {
   "cell_type": "code",
   "execution_count": 7,
   "metadata": {},
   "outputs": [
    {
     "data": {
      "image/png": "[encoded data removed]",
      "text/plain": [
       "<Figure size 1080x288 with 4 Axes>"
      ]
     },
     "metadata": {
      "needs_background": "light"
     },
     "output_type": "display_data"
    }
   ],
   "source": [
    "n = 4\n",
    "smoothed_data = [smooth_data(inv_all_reference[i], 200) for i in range(4)]\n",
    "sosmooth_data = [smooth_data(smoothed_data[i], 100) for i in range(4)]\n",
    "f, ax = plt.subplots(n, 1, sharey=True, figsize=(15,n), gridspec_kw={'hspace': 0})\n",
    "for axis, o in zip(ax, sosmooth_data):\n",
    "#     axis.plot(np.not_equal(o[:-1],o[1:]), 'o')\n",
    "    axis.plot(o)\n",
    "plt.savefig('GeS_1000K_ref1.png', dpi=300)"
   ]
  },
  {
   "cell_type": "code",
   "execution_count": 8,
   "metadata": {},
   "outputs": [
    {
     "ename": "IndexError",
     "evalue": "index 4 is out of bounds for axis 0 with size 4",
     "output_type": "error",
     "traceback": [
      "\u001b[0;31m----------------------------\u001b[0m",
      "\u001b[0;31mIndexError\u001b[0mTraceback (most recent call last)",
      "\u001b[0;32m<ipython-input-8-c818266ba02e>\u001b[0m in \u001b[0;36m<module>\u001b[0;34m\u001b[0m\n\u001b[1;32m      3\u001b[0m \u001b[0mps4_poly\u001b[0m \u001b[0;34m=\u001b[0m \u001b[0;36m0\u001b[0m\u001b[0;34m\u001b[0m\u001b[0;34m\u001b[0m\u001b[0m\n\u001b[1;32m      4\u001b[0m \u001b[0;32mfor\u001b[0m \u001b[0mn\u001b[0m \u001b[0;32min\u001b[0m \u001b[0mps4\u001b[0m\u001b[0;34m:\u001b[0m\u001b[0;34m\u001b[0m\u001b[0;34m\u001b[0m\u001b[0m\n\u001b[0;32m----> 5\u001b[0;31m     \u001b[0;32mfor\u001b[0m \u001b[0mj\u001b[0m\u001b[0;34m,\u001b[0m \u001b[0mk\u001b[0m \u001b[0;32min\u001b[0m \u001b[0menumerate\u001b[0m\u001b[0;34m(\u001b[0m\u001b[0mall_orientations\u001b[0m\u001b[0;34m[\u001b[0m\u001b[0mn\u001b[0m\u001b[0;34m]\u001b[0m\u001b[0;34m)\u001b[0m\u001b[0;34m:\u001b[0m\u001b[0;34m\u001b[0m\u001b[0;34m\u001b[0m\u001b[0m\n\u001b[0m\u001b[1;32m      6\u001b[0m         \u001b[0;32mif\u001b[0m \u001b[0mj\u001b[0m \u001b[0;34m==\u001b[0m \u001b[0mlen\u001b[0m\u001b[0;34m(\u001b[0m\u001b[0mall_orientations\u001b[0m\u001b[0;34m[\u001b[0m\u001b[0mn\u001b[0m\u001b[0;34m]\u001b[0m\u001b[0;34m)\u001b[0m \u001b[0;34m-\u001b[0m \u001b[0;36m1\u001b[0m\u001b[0;34m:\u001b[0m\u001b[0;34m\u001b[0m\u001b[0;34m\u001b[0m\u001b[0m\n\u001b[1;32m      7\u001b[0m             \u001b[0mps4_poly\u001b[0m \u001b[0;34m+=\u001b[0m \u001b[0;36m1\u001b[0m\u001b[0;34m\u001b[0m\u001b[0;34m\u001b[0m\u001b[0m\n",
      "\u001b[0;31mIndexError\u001b[0m: index 4 is out of bounds for axis 0 with size 4"
     ]
    }
   ],
   "source": [
    "ps4 = [0,1,2,3,4,5,6,7]\n",
    "rotation_count = 0\n",
    "ps4_poly = 0 \n",
    "for n in ps4:\n",
    "    for j, k in enumerate(all_orientations[n]):\n",
    "        if j == len(all_orientations[n]) - 1:\n",
    "            ps4_poly += 1\n",
    "            if k != all_orientations[n][j-1]:\n",
    "                rotation_count += 1\n",
    "                print('Last number change')\n",
    "        elif j == 0:\n",
    "            pass\n",
    "        elif k == all_orientations[n][j+1] and k != all_orientations[n][j-1]:\n",
    "            rotation_count += 1\n",
    "#             print('Change')\n",
    "#             print('new', k)\n",
    "#             print('prev', all_orientations[n][j-1])\n",
    "#             print('poly', n)\n",
    "#             print('step', j)\n",
    "print('Rotation Count', rotation_count)\n",
    "print('Total Poly', ps4_poly)\n",
    "print('Mean Rotation Frequency', rotation_count/total_poly/100, 'ps-1')\n",
    "# f = open(\"rotation.dat\", \"w+\")\n",
    "# f.write(f\"rotation count \n",
    "# f.write(\"ps4_poly \" + str(ps4_poly))\n",
    "# f.write(\"mean rotation frequency \" + str(total_mean_rot))\n",
    "# f.close()"
   ]
  },
  {
   "cell_type": "code",
   "execution_count": null,
   "metadata": {},
   "outputs": [],
   "source": [
    "ps4 = [0,1,2,3,4,5,6,7]\n",
    "reference_count = 0\n",
    "ps4_poly = 0 \n",
    "for n in ps4:\n",
    "    for j, k in enumerate(all_reference[n]):\n",
    "        if j == len(all_reference[n]) - 1:\n",
    "            ps4_poly += 1\n",
    "            if k != all_reference[n][j-1]:\n",
    "                reference_count += 1\n",
    "                print('Last number change')\n",
    "        elif j == 0:\n",
    "            pass\n",
    "        elif k == all_reference[n][j+1] and k != all_reference[n][j-1]:\n",
    "            reference_count += 1\n",
    "#             print('Change')\n",
    "#             print('new', k)\n",
    "#             print('prev', all_reference[n][j-1])\n",
    "#             print('poly', n)\n",
    "#             print('step', j)\n",
    "print('Reference changes', reference_count)\n",
    "print('Total poly', ps4_poly)\n",
    "print('Mean Reference Change Frequency', reference_count/total_poly/100, 'ps-1')"
   ]
  },
  {
   "cell_type": "code",
   "execution_count": null,
   "metadata": {},
   "outputs": [],
   "source": [
    "type_1 = [0,1,6,7]\n",
    "type_1_rotation_count = 0\n",
    "type_1_poly = 0\n",
    "for n in type_1:\n",
    "    for j, k in enumerate(all_orientations[n]):\n",
    "        if j == len(all_orientations[n]) - 1:\n",
    "            type_1_poly += 1\n",
    "            if k != all_orientations[n][j-1]:\n",
    "                type_1_rotation_count += 1\n",
    "                print('Last number change')\n",
    "        elif j == 0:\n",
    "            pass\n",
    "        elif k == all_orientations[n][j+1] and k != all_orientations[n][j-1]:\n",
    "            type_1_rotation_count += 1\n",
    "#             print('Change')\n",
    "#             print('new', k)\n",
    "#             print('prev', all_orientations[n][j-1])\n",
    "#             print('poly', n)\n",
    "#             print('step', j)\n",
    "print('Type 1 Orientation Changes', type_1_rotation_count)\n",
    "print('Type 1 poly', type_1_poly)\n",
    "print('Mean Type 1 Rotation Frequency', type_1_rotation_count/type_1_poly/100, 'ps-1')"
   ]
  },
  {
   "cell_type": "code",
   "execution_count": null,
   "metadata": {},
   "outputs": [],
   "source": [
    "type_0 = [2,3,4,5]\n",
    "type_0_rotation_count = 0\n",
    "type_0_poly = 0\n",
    "for n in type_0:\n",
    "    for j, k in enumerate(all_orientations[n]):\n",
    "        if j == len(all_orientations[n]) - 1:\n",
    "            type_0_poly += 1\n",
    "            if k != all_orientations[n][j-1]:\n",
    "                type_0_rotation_count += 1\n",
    "                print('Last number change')\n",
    "        elif j == 0:\n",
    "            pass\n",
    "        elif k == all_orientations[n][j+1] and k != all_orientations[n][j-1]:\n",
    "            type_0_rotation_count += 1\n",
    "#             print('Change')\n",
    "#             print('new', k)\n",
    "#             print('prev', all_orientations[n][j-1])\n",
    "#             print('poly', n)\n",
    "#             print('step', j)\n",
    "print('Type 0 Orientation Changes', type_0_rotation_count)\n",
    "print('Type 0 poly', type_0_poly)\n",
    "print('Mean Type 0 Rotation Frequency', type_0_rotation_count/type_0_poly/100, 'ps-1')"
   ]
  },
  {
   "cell_type": "code",
   "execution_count": null,
   "metadata": {},
   "outputs": [],
   "source": [
    "ps4 = [0,1,2,3,4,5,6,7]\n",
    "time_0 = 0\n",
    "time_1 = 0\n",
    "for n in ps4:\n",
    "    for j, k in enumerate(all_reference[n]):\n",
    "        if k == 0:\n",
    "            time_0 += 1\n",
    "        elif k == 1:\n",
    "            time_1 += 1\n",
    "print('Time in ground state', time_0 * 2, 'fs')\n",
    "print('Time in excited state', time_1 * 2, 'fs')"
   ]
  },
  {
   "cell_type": "code",
   "execution_count": 119,
   "metadata": {},
   "outputs": [
    {
     "name": "stdout",
     "output_type": "stream",
     "text": [
      "69\n",
      "0.08625\n"
     ]
    }
   ],
   "source": [
    "ps4 = [0,1,2,3,4,5,6,7]\n",
    "rotation_count = 0\n",
    "ps4_poly = 0 \n",
    "for n in ps4:\n",
    "#     print(n)\n",
    "    smooth = smooth_data(all_orientations[n], 200)\n",
    "    sosmooth = smooth_data(smooth, 100)\n",
    "    for j, k in enumerate(sosmooth):\n",
    "        if j == len(sosmooth) - 1:\n",
    "            ps4_poly += 1\n",
    "        elif j == 0:\n",
    "            pass\n",
    "        elif k == sosmooth[j+1] and k != sosmooth[j-1]:\n",
    "            rotation_count += 1\n",
    "#             print('Change')\n",
    "#             print('new', k)\n",
    "#             print('prev', all_orientations[n][j-1])\n",
    "#             print('poly', n)\n",
    "#             print('step', j)\n",
    "print(rotation_count)\n",
    "print(rotation_count/ps4_poly/100)"
   ]
  },
  {
   "cell_type": "code",
   "execution_count": null,
   "metadata": {},
   "outputs": [],
   "source": []
  }
 ],
 "metadata": {
  "kernelspec": {
   "display_name": "Python 3",
   "language": "python",
   "name": "python3"
  },
  "language_info": {
   "codemirror_mode": {
    "name": "ipython",
    "version": 3
   },
   "file_extension": ".py",
   "mimetype": "text/x-python",
   "name": "python",
   "nbconvert_exporter": "python",
   "pygments_lexer": "ipython3",
   "version": "3.7.3"
  }
 },
 "nbformat": 4,
 "nbformat_minor": 4
}
