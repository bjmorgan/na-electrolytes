{
 "cells": [
  {
   "cell_type": "markdown",
   "metadata": {},
   "source": [
    "# `site-analysis` example"
   ]
  },
  {
   "cell_type": "code",
   "execution_count": 1,
   "metadata": {},
   "outputs": [],
   "source": [
    "from pymatgen.io.vasp import Poscar, Xdatcar\n",
    "import numpy as np\n",
    "import operator\n",
    "from site_analysis import PolyhedralSite, Atom, Analysis, get_vertex_indices, AtomsTrajectory, SitesTrajectory"
   ]
  },
  {
   "cell_type": "markdown",
   "metadata": {},
   "source": [
    "The first step is to identify the atoms that define the coordination polyhedra vertices.  \n",
    "To do this we load a `POSCAR` file where every octahedral site is occupied by a Na atom."
   ]
  },
  {
   "cell_type": "code",
   "execution_count": 2,
   "metadata": {},
   "outputs": [],
   "source": [
    "all_na_structure = Poscar.from_file('na_sn_all_na_ext.POSCAR.vasp').structure\n",
    "vertex_species = 'S'\n",
    "centre_species = 'Na'"
   ]
  },
  {
   "cell_type": "markdown",
   "metadata": {},
   "source": [
    "We then use the `get_vertex_indices()` function to find the six closest S to each Na (within a cutoff of 4.3 Å).  \n",
    "This returns a nested list, where each sublist contains the S indices for a single polyedron.  \n",
    "Note: this index counts from 1, and ignores other species in the structure (so is not affected by species order)."
   ]
  },
  {
   "cell_type": "code",
   "execution_count": 3,
   "metadata": {},
   "outputs": [
    {
     "name": "stdout",
     "output_type": "stream",
     "text": [
      "[[27, 29, 59, 61, 83, 85], [19, 21, 51, 53, 91, 93], [9, 15, 41, 47, 65, 71], [7, 23, 33, 49, 73, 90]]\n"
     ]
    }
   ],
   "source": [
    "# find atom indices (within species) for all polyhedra vertex atoms\n",
    "vertex_indices = get_vertex_indices(all_na_structure, centre_species=centre_species, \n",
    "                                    vertex_species=vertex_species, cutoff=4.3)\n",
    "print(vertex_indices[:4])"
   ]
  },
  {
   "cell_type": "markdown",
   "metadata": {},
   "source": [
    "We can now use these vertex ids to define our `Polyhedron` objects.  \n",
    "We also define our `Atom` objects, using an example structure with the correct Na stoichiometry.\n",
    "These lists of polyhedra and atoms are then used to create an `Analysis` object."
   ]
  },
  {
   "cell_type": "code",
   "execution_count": 4,
   "metadata": {},
   "outputs": [],
   "source": [
    "structure = Poscar.from_file('POSCAR').structure\n",
    "# create Polyhedron objects\n",
    "sites = [PolyhedralSite(vertex_species=vertex_species, vertex_indices=vi) for vi in vertex_indices]\n",
    "# create Atom objects\n",
    "atoms = [Atom(species_string=centre_species) for site in structure if site.species_string is 'Na']\n",
    "analysis = Analysis(sites, atoms)"
   ]
  },
  {
   "cell_type": "markdown",
   "metadata": {},
   "source": [
    "The `Analysis` object provides the main interface for working with the `Polyhedron` and `Atom` objects.  \n",
    "e.g. to get a summary of the polyhedron coordination numbers:"
   ]
  },
  {
   "cell_type": "code",
   "execution_count": 5,
   "metadata": {},
   "outputs": [
    {
     "data": {
      "text/plain": [
       "Counter({6: 136})"
      ]
     },
     "execution_count": 5,
     "metadata": {},
     "output_type": "execute_result"
    }
   ],
   "source": [
    "analysis.site_coordination_numbers()"
   ]
  },
  {
   "cell_type": "markdown",
   "metadata": {},
   "source": [
    "To analyse the site occupation for a particular `pymatgen` `Structure`:"
   ]
  },
  {
   "cell_type": "code",
   "execution_count": 6,
   "metadata": {},
   "outputs": [],
   "source": [
    "analysis.analyse_structure(structure)"
   ]
  },
  {
   "cell_type": "markdown",
   "metadata": {},
   "source": [
    "The list of sites occupied by each atom can now be accessed using `analysis.atom_sites`"
   ]
  },
  {
   "cell_type": "code",
   "execution_count": 7,
   "metadata": {},
   "outputs": [
    {
     "data": {
      "text/plain": [
       "array([ 10,  93, 100,  15,  17,  69,  67,  24,  97,  84,  59,  57,  87,\n",
       "        55,  65,  16,  66,  13,  92,  14,  95,  51,  61,  86,  54,  25,\n",
       "        79,  83,  33,  35,   6,  41,   5,  43,   4,  36,  34,  42,   8,\n",
       "        40,  12,  94,  50,  68,  27,  82,   7,  63,  70,  49,   1,  98,\n",
       "        23,  91,  62,  56,   9,  31, 102,  73,  32,   2,  72,  99,   3,\n",
       "        90,  22,  71,  88,  26,  85,  21,  47,  37,  81,  18,  52,  64,\n",
       "        89,  45,  60,  53,  58,  44,  46, 101,  19,  80])"
      ]
     },
     "execution_count": 7,
     "metadata": {},
     "output_type": "execute_result"
    }
   ],
   "source": [
    "np.array(analysis.atom_sites)"
   ]
  },
  {
   "cell_type": "markdown",
   "metadata": {},
   "source": [
    "The list of atoms occupying each site can be accessed using `analysis.site_occupations`.  \n",
    "The occupations of each site are stored as a list of lists, as each site can have zero, one, or multiple atoms occupying it."
   ]
  },
  {
   "cell_type": "code",
   "execution_count": 8,
   "metadata": {},
   "outputs": [
    {
     "name": "stdout",
     "output_type": "stream",
     "text": [
      "[[51], [62], [65], [35], [33], [31], [47], [39], [57], [1], [], [41], [18], [20], [4], [16], [5], [76], [87], [], [72], [67], [53], [8], [26], [70], [45], [], [], [], [58], [61], [29], [37], [30], [36], [74], [], [], [40], [32], [38], [34], [84], [80], [85], [73], [], [50], [43], [22], [77], [82], [25], [14], [56], [12], [83], [11], [81], [23], [55], [48], [78], [15], [17], [7], [44], [6], [49], [68], [63], [60], [], [], [], [], [], [27], [88], [75], [46], [28], [10], [71], [24], [13], [69], [79], [66], [54], [19], [2], [42], [21], [], [9], [52], [64], [3], [86], [59], [], [], [], [], [], [], [], [], [], [], [], [], [], [], [], [], [], [], [], [], [], [], [], [], [], [], [], [], [], [], [], [], [], []]\n"
     ]
    }
   ],
   "source": [
    "print(analysis.site_occupations)"
   ]
  },
  {
   "cell_type": "markdown",
   "metadata": {},
   "source": [
    "A *trajectory* consists of a series of site occupations over multiple timesteps. A single timestep can be processed using the `analysis.append_timestep()` method:"
   ]
  },
  {
   "cell_type": "code",
   "execution_count": 9,
   "metadata": {},
   "outputs": [],
   "source": [
    "analysis.append_timestep(structure)"
   ]
  },
  {
   "cell_type": "markdown",
   "metadata": {},
   "source": [
    "There are two ways to think about a site-projected trajectory:  \n",
    "1. From an atom-centric perspective. Each atom visits a series of sites, and occupies one site each timestep.\n",
    "2. From a site-centric perspective. Each site is visited by a series of atoms, and has zero, one, or more atoms occupying it at each timestep.\n",
    "\n",
    "These two trajectory types can be accessed using the `Atom.trajectory` and `Site.trajectory` attributes:"
   ]
  },
  {
   "cell_type": "code",
   "execution_count": 10,
   "metadata": {},
   "outputs": [
    {
     "name": "stdout",
     "output_type": "stream",
     "text": [
      "[15]\n"
     ]
    }
   ],
   "source": [
    "print(atoms[3].trajectory)"
   ]
  },
  {
   "cell_type": "code",
   "execution_count": 11,
   "metadata": {},
   "outputs": [
    {
     "name": "stdout",
     "output_type": "stream",
     "text": [
      "[[35]]\n"
     ]
    }
   ],
   "source": [
    "print(sites[3].trajectory)"
   ]
  },
  {
   "cell_type": "markdown",
   "metadata": {},
   "source": [
    "The combined atom trajectory can be accessed using `analysis.atoms_trajectory`."
   ]
  },
  {
   "cell_type": "code",
   "execution_count": 12,
   "metadata": {},
   "outputs": [
    {
     "name": "stdout",
     "output_type": "stream",
     "text": [
      "[[10, 93, 100, 15, 17, 69, 67, 24, 97, 84, 59, 57, 87, 55, 65, 16, 66, 13, 92, 14, 95, 51, 61, 86, 54, 25, 79, 83, 33, 35, 6, 41, 5, 43, 4, 36, 34, 42, 8, 40, 12, 94, 50, 68, 27, 82, 7, 63, 70, 49, 1, 98, 23, 91, 62, 56, 9, 31, 102, 73, 32, 2, 72, 99, 3, 90, 22, 71, 88, 26, 85, 21, 47, 37, 81, 18, 52, 64, 89, 45, 60, 53, 58, 44, 46, 101, 19, 80]]\n"
     ]
    }
   ],
   "source": [
    "print(analysis.atoms_trajectory)"
   ]
  },
  {
   "cell_type": "markdown",
   "metadata": {},
   "source": [
    "and the combined site trajectory can be accessed using `analysis.sites_trajectory`."
   ]
  },
  {
   "cell_type": "code",
   "execution_count": 13,
   "metadata": {},
   "outputs": [
    {
     "name": "stdout",
     "output_type": "stream",
     "text": [
      "[[[51], [62], [65], [35], [33], [31], [47], [39], [57], [1], [], [41], [18], [20], [4], [16], [5], [76], [87], [], [72], [67], [53], [8], [26], [70], [45], [], [], [], [58], [61], [29], [37], [30], [36], [74], [], [], [40], [32], [38], [34], [84], [80], [85], [73], [], [50], [43], [22], [77], [82], [25], [14], [56], [12], [83], [11], [81], [23], [55], [48], [78], [15], [17], [7], [44], [6], [49], [68], [63], [60], [], [], [], [], [], [27], [88], [75], [46], [28], [10], [71], [24], [13], [69], [79], [66], [54], [19], [2], [42], [21], [], [9], [52], [64], [3], [86], [59], [], [], [], [], [], [], [], [], [], [], [], [], [], [], [], [], [], [], [], [], [], [], [], [], [], [], [], [], [], [], [], [], [], []]]\n"
     ]
    }
   ],
   "source": [
    "print(analysis.sites_trajectory)"
   ]
  },
  {
   "cell_type": "markdown",
   "metadata": {},
   "source": [
    "Example of processing a simulation trajectory using the `XDATCAR` file:  \n",
    "(using `analysis.reset()` to reset the trajectory data.)"
   ]
  },
  {
   "cell_type": "code",
   "execution_count": 14,
   "metadata": {},
   "outputs": [],
   "source": [
    "analysis.reset()\n",
    "\n",
    "xdatcar = Xdatcar('XDATCAR')\n",
    "\n",
    "for timestep, s in enumerate(xdatcar.structures):\n",
    "    analysis.append_timestep(s, t=timestep)"
   ]
  },
  {
   "cell_type": "markdown",
   "metadata": {},
   "source": [
    "Checking which sites has Na(4) visited:  \n",
    "(note use of `analysis.at` as shorthand for `analysis.atoms_trajectory`)"
   ]
  },
  {
   "cell_type": "code",
   "execution_count": 15,
   "metadata": {},
   "outputs": [
    {
     "name": "stdout",
     "output_type": "stream",
     "text": [
      "[15, 15, 15, 15, 73, 73, 73, 73, 73, 73, 73, 73, 73, 73, 73, 73, 73, 73, 73, 73]\n"
     ]
    }
   ],
   "source": [
    "print(analysis.atom_by_index(4).trajectory) # convert to a numpy array to then use numpy array slicing to extract a single atom trajectory."
   ]
  },
  {
   "cell_type": "markdown",
   "metadata": {},
   "source": [
    "Na(4) starts in site 15, and moves to site 73 at timestep 5.  \n",
    "The same information can be seen by querying the site occupation data for sites 15 and 73:  \n",
    "(note use of `analysis.st` as shorthand for `analysis.sites_trajectory`)"
   ]
  },
  {
   "cell_type": "code",
   "execution_count": 16,
   "metadata": {},
   "outputs": [
    {
     "name": "stdout",
     "output_type": "stream",
     "text": [
      "[[4], [4], [4], [4], [], [], [], [], [], [], [], [], [], [], [], [], [], [], [], []]\n",
      "[[], [], [], [], [4], [4], [4], [4], [4], [4], [4], [4], [4], [4], [4], [4], [4], [4], [4], [4]]\n"
     ]
    }
   ],
   "source": [
    "print(analysis.site_by_index(15).trajectory)\n",
    "print(analysis.site_by_index(73).trajectory)"
   ]
  },
  {
   "cell_type": "code",
   "execution_count": null,
   "metadata": {},
   "outputs": [],
   "source": []
  }
 ],
 "metadata": {
  "kernelspec": {
   "display_name": "Python 3",
   "language": "python",
   "name": "python3"
  },
  "language_info": {
   "codemirror_mode": {
    "name": "ipython",
    "version": 3
   },
   "file_extension": ".py",
   "mimetype": "text/x-python",
   "name": "python",
   "nbconvert_exporter": "python",
   "pygments_lexer": "ipython3",
   "version": "3.7.0"
  }
 },
 "nbformat": 4,
 "nbformat_minor": 2
}
